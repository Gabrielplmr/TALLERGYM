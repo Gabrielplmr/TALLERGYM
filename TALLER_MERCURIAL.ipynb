{
  "nbformat": 4,
  "nbformat_minor": 0,
  "metadata": {
    "colab": {
      "provenance": [],
      "authorship_tag": "ABX9TyPaB4mdTtmHOTATYUeYx5gL",
      "include_colab_link": true
    },
    "kernelspec": {
      "name": "python3",
      "display_name": "Python 3"
    },
    "language_info": {
      "name": "python"
    }
  },
  "cells": [
    {
      "cell_type": "markdown",
      "metadata": {
        "id": "view-in-github",
        "colab_type": "text"
      },
      "source": [
        "<a href=\"https://colab.research.google.com/github/Gabrielplmr/TALLERGYM/blob/main/TALLER_MERCURIAL.ipynb\" target=\"_parent\"><img src=\"https://colab.research.google.com/assets/colab-badge.svg\" alt=\"Open In Colab\"/></a>"
      ]
    },
    {
      "cell_type": "code",
      "execution_count": null,
      "metadata": {
        "id": "3k-47XC5Ykx8"
      },
      "outputs": [],
      "source": [
        "import math\n",
        "\n",
        "num = 5  # Puedes cambiar este número\n",
        "factorial = math.factorial(num)\n",
        "\n",
        "print(f\"El factorial de {num} es {factorial}\")\n"
      ]
    }
  ]
}